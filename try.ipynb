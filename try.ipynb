{
 "cells": [
  {
   "cell_type": "code",
   "execution_count": null,
   "id": "936b56c2",
   "metadata": {},
   "outputs": [],
   "source": [
    "import numpy as np\n",
    "import matplotlib.pyplot as plt\n",
    "import pandas as pd\n",
    "import seaborn as sns\n",
    "from scipy.stats import linregress"
   ]
  },
  {
   "cell_type": "code",
   "execution_count": null,
   "id": "1f94078b",
   "metadata": {},
   "outputs": [],
   "source": [
    "df = pd.read_csv('epa-sea-level.csv')"
   ]
  },
  {
   "cell_type": "code",
   "execution_count": null,
   "id": "1f1bfeb5",
   "metadata": {},
   "outputs": [],
   "source": [
    "# scatterplot\n",
    "df_scatter = df.copy()\n",
    "fig, ax = plt.subplots(figsize=(12, 6))\n",
    "ax.scatter(\n",
    "    data=df_scatter,\n",
    "    x='Year',\n",
    "    y='CSIRO Adjusted Sea Level',\n",
    "    s=5\n",
    ")\n",
    "\n",
    "# 1st regression line\n",
    "slope, intercept, r_value, p_value, std_err = linregress(df_scatter['Year'], df_scatter['CSIRO Adjusted Sea Level'])\n",
    "x_pred = np.arange(df_scatter['Year'].min(), 2051)\n",
    "y_pred = (slope * x_pred) + intercept\n",
    "ax.plot(x_pred, y_pred, color='red', alpha=0.3)\n",
    "\n",
    "# 2nd regression line\n",
    "df_newline = df.loc[df['Year'] >= 2000]\n",
    "slope, intercept, r_value, p_value, std_err = linregress(df_newline['Year'], df_newline['CSIRO Adjusted Sea Level'])\n",
    "x_pred_new = np.arange(df_newline['Year'].min(), 2051)\n",
    "y_pred_new = (slope * x_pred_new) + intercept\n",
    "ax.plot(x_pred_new, y_pred_new, color='green', alpha=0.3)\n",
    "\n",
    "# labels\n",
    "ax.grid()\n",
    "ax.set_xlabel('Year')\n",
    "ax.set_ylabel('Sea Level (inches)')\n",
    "ax.set_title('Rise in Sea Level')"
   ]
  }
 ],
 "metadata": {
  "kernelspec": {
   "display_name": "Python 3",
   "language": "python",
   "name": "python3"
  },
  "language_info": {
   "codemirror_mode": {
    "name": "ipython",
    "version": 3
   },
   "file_extension": ".py",
   "mimetype": "text/x-python",
   "name": "python",
   "nbconvert_exporter": "python",
   "pygments_lexer": "ipython3",
   "version": "3.13.5"
  }
 },
 "nbformat": 4,
 "nbformat_minor": 5
}
